{
  "cells": [
    {
      "cell_type": "markdown",
      "metadata": {
        "id": "view-in-github",
        "colab_type": "text"
      },
      "source": [
        "<a href=\"https://colab.research.google.com/github/bhavadha19/Cryptocurrency_Price_Prediction_using_DL/blob/main/Half_hourly_BTC.ipynb\" target=\"_parent\"><img src=\"https://colab.research.google.com/assets/colab-badge.svg\" alt=\"Open In Colab\"/></a>"
      ]
    },
    {
      "cell_type": "code",
      "execution_count": null,
      "metadata": {
        "id": "hCK9tJkxBvPv"
      },
      "outputs": [],
      "source": [
        "import pandas as pd\n",
        "import numpy as np"
      ]
    },
    {
      "cell_type": "code",
      "execution_count": null,
      "metadata": {
        "colab": {
          "base_uri": "https://localhost:8080/",
          "height": 206
        },
        "id": "Kc-NMs_MB2Hj",
        "outputId": "63a5b25c-e95d-4006-a78b-e51bc773c23d"
      },
      "outputs": [
        {
          "output_type": "execute_result",
          "data": {
            "text/plain": [
              "              datetime  transaction_rate  mempool_size  market_cap_usd\n",
              "0  2009-01-03 00:00:00               NaN           NaN             NaN\n",
              "1  2009-01-03 00:30:00               NaN           NaN             NaN\n",
              "2  2009-01-03 01:00:00               NaN           NaN             NaN\n",
              "3  2009-01-03 01:30:00               NaN           NaN             NaN\n",
              "4  2009-01-03 02:00:00               NaN           NaN             NaN"
            ],
            "text/html": [
              "\n",
              "  <div id=\"df-11f8c11a-1de5-4ff8-b5a5-850f468b6c60\" class=\"colab-df-container\">\n",
              "    <div>\n",
              "<style scoped>\n",
              "    .dataframe tbody tr th:only-of-type {\n",
              "        vertical-align: middle;\n",
              "    }\n",
              "\n",
              "    .dataframe tbody tr th {\n",
              "        vertical-align: top;\n",
              "    }\n",
              "\n",
              "    .dataframe thead th {\n",
              "        text-align: right;\n",
              "    }\n",
              "</style>\n",
              "<table border=\"1\" class=\"dataframe\">\n",
              "  <thead>\n",
              "    <tr style=\"text-align: right;\">\n",
              "      <th></th>\n",
              "      <th>datetime</th>\n",
              "      <th>transaction_rate</th>\n",
              "      <th>mempool_size</th>\n",
              "      <th>market_cap_usd</th>\n",
              "    </tr>\n",
              "  </thead>\n",
              "  <tbody>\n",
              "    <tr>\n",
              "      <th>0</th>\n",
              "      <td>2009-01-03 00:00:00</td>\n",
              "      <td>NaN</td>\n",
              "      <td>NaN</td>\n",
              "      <td>NaN</td>\n",
              "    </tr>\n",
              "    <tr>\n",
              "      <th>1</th>\n",
              "      <td>2009-01-03 00:30:00</td>\n",
              "      <td>NaN</td>\n",
              "      <td>NaN</td>\n",
              "      <td>NaN</td>\n",
              "    </tr>\n",
              "    <tr>\n",
              "      <th>2</th>\n",
              "      <td>2009-01-03 01:00:00</td>\n",
              "      <td>NaN</td>\n",
              "      <td>NaN</td>\n",
              "      <td>NaN</td>\n",
              "    </tr>\n",
              "    <tr>\n",
              "      <th>3</th>\n",
              "      <td>2009-01-03 01:30:00</td>\n",
              "      <td>NaN</td>\n",
              "      <td>NaN</td>\n",
              "      <td>NaN</td>\n",
              "    </tr>\n",
              "    <tr>\n",
              "      <th>4</th>\n",
              "      <td>2009-01-03 02:00:00</td>\n",
              "      <td>NaN</td>\n",
              "      <td>NaN</td>\n",
              "      <td>NaN</td>\n",
              "    </tr>\n",
              "  </tbody>\n",
              "</table>\n",
              "</div>\n",
              "    <div class=\"colab-df-buttons\">\n",
              "\n",
              "  <div class=\"colab-df-container\">\n",
              "    <button class=\"colab-df-convert\" onclick=\"convertToInteractive('df-11f8c11a-1de5-4ff8-b5a5-850f468b6c60')\"\n",
              "            title=\"Convert this dataframe to an interactive table.\"\n",
              "            style=\"display:none;\">\n",
              "\n",
              "  <svg xmlns=\"http://www.w3.org/2000/svg\" height=\"24px\" viewBox=\"0 -960 960 960\">\n",
              "    <path d=\"M120-120v-720h720v720H120Zm60-500h600v-160H180v160Zm220 220h160v-160H400v160Zm0 220h160v-160H400v160ZM180-400h160v-160H180v160Zm440 0h160v-160H620v160ZM180-180h160v-160H180v160Zm440 0h160v-160H620v160Z\"/>\n",
              "  </svg>\n",
              "    </button>\n",
              "\n",
              "  <style>\n",
              "    .colab-df-container {\n",
              "      display:flex;\n",
              "      gap: 12px;\n",
              "    }\n",
              "\n",
              "    .colab-df-convert {\n",
              "      background-color: #E8F0FE;\n",
              "      border: none;\n",
              "      border-radius: 50%;\n",
              "      cursor: pointer;\n",
              "      display: none;\n",
              "      fill: #1967D2;\n",
              "      height: 32px;\n",
              "      padding: 0 0 0 0;\n",
              "      width: 32px;\n",
              "    }\n",
              "\n",
              "    .colab-df-convert:hover {\n",
              "      background-color: #E2EBFA;\n",
              "      box-shadow: 0px 1px 2px rgba(60, 64, 67, 0.3), 0px 1px 3px 1px rgba(60, 64, 67, 0.15);\n",
              "      fill: #174EA6;\n",
              "    }\n",
              "\n",
              "    .colab-df-buttons div {\n",
              "      margin-bottom: 4px;\n",
              "    }\n",
              "\n",
              "    [theme=dark] .colab-df-convert {\n",
              "      background-color: #3B4455;\n",
              "      fill: #D2E3FC;\n",
              "    }\n",
              "\n",
              "    [theme=dark] .colab-df-convert:hover {\n",
              "      background-color: #434B5C;\n",
              "      box-shadow: 0px 1px 3px 1px rgba(0, 0, 0, 0.15);\n",
              "      filter: drop-shadow(0px 1px 2px rgba(0, 0, 0, 0.3));\n",
              "      fill: #FFFFFF;\n",
              "    }\n",
              "  </style>\n",
              "\n",
              "    <script>\n",
              "      const buttonEl =\n",
              "        document.querySelector('#df-11f8c11a-1de5-4ff8-b5a5-850f468b6c60 button.colab-df-convert');\n",
              "      buttonEl.style.display =\n",
              "        google.colab.kernel.accessAllowed ? 'block' : 'none';\n",
              "\n",
              "      async function convertToInteractive(key) {\n",
              "        const element = document.querySelector('#df-11f8c11a-1de5-4ff8-b5a5-850f468b6c60');\n",
              "        const dataTable =\n",
              "          await google.colab.kernel.invokeFunction('convertToInteractive',\n",
              "                                                    [key], {});\n",
              "        if (!dataTable) return;\n",
              "\n",
              "        const docLinkHtml = 'Like what you see? Visit the ' +\n",
              "          '<a target=\"_blank\" href=https://colab.research.google.com/notebooks/data_table.ipynb>data table notebook</a>'\n",
              "          + ' to learn more about interactive tables.';\n",
              "        element.innerHTML = '';\n",
              "        dataTable['output_type'] = 'display_data';\n",
              "        await google.colab.output.renderOutput(dataTable, element);\n",
              "        const docLink = document.createElement('div');\n",
              "        docLink.innerHTML = docLinkHtml;\n",
              "        element.appendChild(docLink);\n",
              "      }\n",
              "    </script>\n",
              "  </div>\n",
              "\n",
              "\n",
              "<div id=\"df-aaa40c70-05ef-4d79-98d2-ab99a14f18be\">\n",
              "  <button class=\"colab-df-quickchart\" onclick=\"quickchart('df-aaa40c70-05ef-4d79-98d2-ab99a14f18be')\"\n",
              "            title=\"Suggest charts\"\n",
              "            style=\"display:none;\">\n",
              "\n",
              "<svg xmlns=\"http://www.w3.org/2000/svg\" height=\"24px\"viewBox=\"0 0 24 24\"\n",
              "     width=\"24px\">\n",
              "    <g>\n",
              "        <path d=\"M19 3H5c-1.1 0-2 .9-2 2v14c0 1.1.9 2 2 2h14c1.1 0 2-.9 2-2V5c0-1.1-.9-2-2-2zM9 17H7v-7h2v7zm4 0h-2V7h2v10zm4 0h-2v-4h2v4z\"/>\n",
              "    </g>\n",
              "</svg>\n",
              "  </button>\n",
              "\n",
              "<style>\n",
              "  .colab-df-quickchart {\n",
              "      --bg-color: #E8F0FE;\n",
              "      --fill-color: #1967D2;\n",
              "      --hover-bg-color: #E2EBFA;\n",
              "      --hover-fill-color: #174EA6;\n",
              "      --disabled-fill-color: #AAA;\n",
              "      --disabled-bg-color: #DDD;\n",
              "  }\n",
              "\n",
              "  [theme=dark] .colab-df-quickchart {\n",
              "      --bg-color: #3B4455;\n",
              "      --fill-color: #D2E3FC;\n",
              "      --hover-bg-color: #434B5C;\n",
              "      --hover-fill-color: #FFFFFF;\n",
              "      --disabled-bg-color: #3B4455;\n",
              "      --disabled-fill-color: #666;\n",
              "  }\n",
              "\n",
              "  .colab-df-quickchart {\n",
              "    background-color: var(--bg-color);\n",
              "    border: none;\n",
              "    border-radius: 50%;\n",
              "    cursor: pointer;\n",
              "    display: none;\n",
              "    fill: var(--fill-color);\n",
              "    height: 32px;\n",
              "    padding: 0;\n",
              "    width: 32px;\n",
              "  }\n",
              "\n",
              "  .colab-df-quickchart:hover {\n",
              "    background-color: var(--hover-bg-color);\n",
              "    box-shadow: 0 1px 2px rgba(60, 64, 67, 0.3), 0 1px 3px 1px rgba(60, 64, 67, 0.15);\n",
              "    fill: var(--button-hover-fill-color);\n",
              "  }\n",
              "\n",
              "  .colab-df-quickchart-complete:disabled,\n",
              "  .colab-df-quickchart-complete:disabled:hover {\n",
              "    background-color: var(--disabled-bg-color);\n",
              "    fill: var(--disabled-fill-color);\n",
              "    box-shadow: none;\n",
              "  }\n",
              "\n",
              "  .colab-df-spinner {\n",
              "    border: 2px solid var(--fill-color);\n",
              "    border-color: transparent;\n",
              "    border-bottom-color: var(--fill-color);\n",
              "    animation:\n",
              "      spin 1s steps(1) infinite;\n",
              "  }\n",
              "\n",
              "  @keyframes spin {\n",
              "    0% {\n",
              "      border-color: transparent;\n",
              "      border-bottom-color: var(--fill-color);\n",
              "      border-left-color: var(--fill-color);\n",
              "    }\n",
              "    20% {\n",
              "      border-color: transparent;\n",
              "      border-left-color: var(--fill-color);\n",
              "      border-top-color: var(--fill-color);\n",
              "    }\n",
              "    30% {\n",
              "      border-color: transparent;\n",
              "      border-left-color: var(--fill-color);\n",
              "      border-top-color: var(--fill-color);\n",
              "      border-right-color: var(--fill-color);\n",
              "    }\n",
              "    40% {\n",
              "      border-color: transparent;\n",
              "      border-right-color: var(--fill-color);\n",
              "      border-top-color: var(--fill-color);\n",
              "    }\n",
              "    60% {\n",
              "      border-color: transparent;\n",
              "      border-right-color: var(--fill-color);\n",
              "    }\n",
              "    80% {\n",
              "      border-color: transparent;\n",
              "      border-right-color: var(--fill-color);\n",
              "      border-bottom-color: var(--fill-color);\n",
              "    }\n",
              "    90% {\n",
              "      border-color: transparent;\n",
              "      border-bottom-color: var(--fill-color);\n",
              "    }\n",
              "  }\n",
              "</style>\n",
              "\n",
              "  <script>\n",
              "    async function quickchart(key) {\n",
              "      const quickchartButtonEl =\n",
              "        document.querySelector('#' + key + ' button');\n",
              "      quickchartButtonEl.disabled = true;  // To prevent multiple clicks.\n",
              "      quickchartButtonEl.classList.add('colab-df-spinner');\n",
              "      try {\n",
              "        const charts = await google.colab.kernel.invokeFunction(\n",
              "            'suggestCharts', [key], {});\n",
              "      } catch (error) {\n",
              "        console.error('Error during call to suggestCharts:', error);\n",
              "      }\n",
              "      quickchartButtonEl.classList.remove('colab-df-spinner');\n",
              "      quickchartButtonEl.classList.add('colab-df-quickchart-complete');\n",
              "    }\n",
              "    (() => {\n",
              "      let quickchartButtonEl =\n",
              "        document.querySelector('#df-aaa40c70-05ef-4d79-98d2-ab99a14f18be button');\n",
              "      quickchartButtonEl.style.display =\n",
              "        google.colab.kernel.accessAllowed ? 'block' : 'none';\n",
              "    })();\n",
              "  </script>\n",
              "</div>\n",
              "\n",
              "    </div>\n",
              "  </div>\n"
            ],
            "application/vnd.google.colaboratory.intrinsic+json": {
              "type": "dataframe",
              "variable_name": "df"
            }
          },
          "metadata": {},
          "execution_count": 3
        }
      ],
      "source": [
        "df=pd.read_csv('/content/drive/MyDrive/Publication project/code/Dataset/blockchain_dot_com_half_hourly_data.csv')\n",
        "df.head()"
      ]
    },
    {
      "cell_type": "markdown",
      "metadata": {
        "id": "kj6tqweK2gKr"
      },
      "source": [
        "**Datetime vs market_cap_usd**"
      ]
    },
    {
      "cell_type": "code",
      "source": [
        "df.tail()"
      ],
      "metadata": {
        "colab": {
          "base_uri": "https://localhost:8080/",
          "height": 206
        },
        "id": "A5hyLYuN_zJH",
        "outputId": "11d87ff6-5d14-4f10-929f-33aa8318e60b"
      },
      "execution_count": null,
      "outputs": [
        {
          "output_type": "execute_result",
          "data": {
            "text/plain": [
              "                   datetime  transaction_rate  mempool_size  market_cap_usd\n",
              "257105  2023-09-03 08:30:00          5.925000  9.939953e+07    5.044241e+11\n",
              "257106  2023-09-03 09:00:00          2.466667  1.000669e+08    5.043761e+11\n",
              "257107  2023-09-03 09:30:00         12.325000  9.875739e+07    5.052431e+11\n",
              "257108  2023-09-03 10:00:00          6.416667  9.904882e+07    5.047184e+11\n",
              "257109  2023-09-03 10:30:00          6.441667  9.907231e+07    5.047581e+11"
            ],
            "text/html": [
              "\n",
              "  <div id=\"df-c6f707a5-eb46-4443-bcda-b710032390af\" class=\"colab-df-container\">\n",
              "    <div>\n",
              "<style scoped>\n",
              "    .dataframe tbody tr th:only-of-type {\n",
              "        vertical-align: middle;\n",
              "    }\n",
              "\n",
              "    .dataframe tbody tr th {\n",
              "        vertical-align: top;\n",
              "    }\n",
              "\n",
              "    .dataframe thead th {\n",
              "        text-align: right;\n",
              "    }\n",
              "</style>\n",
              "<table border=\"1\" class=\"dataframe\">\n",
              "  <thead>\n",
              "    <tr style=\"text-align: right;\">\n",
              "      <th></th>\n",
              "      <th>datetime</th>\n",
              "      <th>transaction_rate</th>\n",
              "      <th>mempool_size</th>\n",
              "      <th>market_cap_usd</th>\n",
              "    </tr>\n",
              "  </thead>\n",
              "  <tbody>\n",
              "    <tr>\n",
              "      <th>257105</th>\n",
              "      <td>2023-09-03 08:30:00</td>\n",
              "      <td>5.925000</td>\n",
              "      <td>9.939953e+07</td>\n",
              "      <td>5.044241e+11</td>\n",
              "    </tr>\n",
              "    <tr>\n",
              "      <th>257106</th>\n",
              "      <td>2023-09-03 09:00:00</td>\n",
              "      <td>2.466667</td>\n",
              "      <td>1.000669e+08</td>\n",
              "      <td>5.043761e+11</td>\n",
              "    </tr>\n",
              "    <tr>\n",
              "      <th>257107</th>\n",
              "      <td>2023-09-03 09:30:00</td>\n",
              "      <td>12.325000</td>\n",
              "      <td>9.875739e+07</td>\n",
              "      <td>5.052431e+11</td>\n",
              "    </tr>\n",
              "    <tr>\n",
              "      <th>257108</th>\n",
              "      <td>2023-09-03 10:00:00</td>\n",
              "      <td>6.416667</td>\n",
              "      <td>9.904882e+07</td>\n",
              "      <td>5.047184e+11</td>\n",
              "    </tr>\n",
              "    <tr>\n",
              "      <th>257109</th>\n",
              "      <td>2023-09-03 10:30:00</td>\n",
              "      <td>6.441667</td>\n",
              "      <td>9.907231e+07</td>\n",
              "      <td>5.047581e+11</td>\n",
              "    </tr>\n",
              "  </tbody>\n",
              "</table>\n",
              "</div>\n",
              "    <div class=\"colab-df-buttons\">\n",
              "\n",
              "  <div class=\"colab-df-container\">\n",
              "    <button class=\"colab-df-convert\" onclick=\"convertToInteractive('df-c6f707a5-eb46-4443-bcda-b710032390af')\"\n",
              "            title=\"Convert this dataframe to an interactive table.\"\n",
              "            style=\"display:none;\">\n",
              "\n",
              "  <svg xmlns=\"http://www.w3.org/2000/svg\" height=\"24px\" viewBox=\"0 -960 960 960\">\n",
              "    <path d=\"M120-120v-720h720v720H120Zm60-500h600v-160H180v160Zm220 220h160v-160H400v160Zm0 220h160v-160H400v160ZM180-400h160v-160H180v160Zm440 0h160v-160H620v160ZM180-180h160v-160H180v160Zm440 0h160v-160H620v160Z\"/>\n",
              "  </svg>\n",
              "    </button>\n",
              "\n",
              "  <style>\n",
              "    .colab-df-container {\n",
              "      display:flex;\n",
              "      gap: 12px;\n",
              "    }\n",
              "\n",
              "    .colab-df-convert {\n",
              "      background-color: #E8F0FE;\n",
              "      border: none;\n",
              "      border-radius: 50%;\n",
              "      cursor: pointer;\n",
              "      display: none;\n",
              "      fill: #1967D2;\n",
              "      height: 32px;\n",
              "      padding: 0 0 0 0;\n",
              "      width: 32px;\n",
              "    }\n",
              "\n",
              "    .colab-df-convert:hover {\n",
              "      background-color: #E2EBFA;\n",
              "      box-shadow: 0px 1px 2px rgba(60, 64, 67, 0.3), 0px 1px 3px 1px rgba(60, 64, 67, 0.15);\n",
              "      fill: #174EA6;\n",
              "    }\n",
              "\n",
              "    .colab-df-buttons div {\n",
              "      margin-bottom: 4px;\n",
              "    }\n",
              "\n",
              "    [theme=dark] .colab-df-convert {\n",
              "      background-color: #3B4455;\n",
              "      fill: #D2E3FC;\n",
              "    }\n",
              "\n",
              "    [theme=dark] .colab-df-convert:hover {\n",
              "      background-color: #434B5C;\n",
              "      box-shadow: 0px 1px 3px 1px rgba(0, 0, 0, 0.15);\n",
              "      filter: drop-shadow(0px 1px 2px rgba(0, 0, 0, 0.3));\n",
              "      fill: #FFFFFF;\n",
              "    }\n",
              "  </style>\n",
              "\n",
              "    <script>\n",
              "      const buttonEl =\n",
              "        document.querySelector('#df-c6f707a5-eb46-4443-bcda-b710032390af button.colab-df-convert');\n",
              "      buttonEl.style.display =\n",
              "        google.colab.kernel.accessAllowed ? 'block' : 'none';\n",
              "\n",
              "      async function convertToInteractive(key) {\n",
              "        const element = document.querySelector('#df-c6f707a5-eb46-4443-bcda-b710032390af');\n",
              "        const dataTable =\n",
              "          await google.colab.kernel.invokeFunction('convertToInteractive',\n",
              "                                                    [key], {});\n",
              "        if (!dataTable) return;\n",
              "\n",
              "        const docLinkHtml = 'Like what you see? Visit the ' +\n",
              "          '<a target=\"_blank\" href=https://colab.research.google.com/notebooks/data_table.ipynb>data table notebook</a>'\n",
              "          + ' to learn more about interactive tables.';\n",
              "        element.innerHTML = '';\n",
              "        dataTable['output_type'] = 'display_data';\n",
              "        await google.colab.output.renderOutput(dataTable, element);\n",
              "        const docLink = document.createElement('div');\n",
              "        docLink.innerHTML = docLinkHtml;\n",
              "        element.appendChild(docLink);\n",
              "      }\n",
              "    </script>\n",
              "  </div>\n",
              "\n",
              "\n",
              "<div id=\"df-ca2ba1c6-b2a1-4fd6-927d-542678cf44ae\">\n",
              "  <button class=\"colab-df-quickchart\" onclick=\"quickchart('df-ca2ba1c6-b2a1-4fd6-927d-542678cf44ae')\"\n",
              "            title=\"Suggest charts\"\n",
              "            style=\"display:none;\">\n",
              "\n",
              "<svg xmlns=\"http://www.w3.org/2000/svg\" height=\"24px\"viewBox=\"0 0 24 24\"\n",
              "     width=\"24px\">\n",
              "    <g>\n",
              "        <path d=\"M19 3H5c-1.1 0-2 .9-2 2v14c0 1.1.9 2 2 2h14c1.1 0 2-.9 2-2V5c0-1.1-.9-2-2-2zM9 17H7v-7h2v7zm4 0h-2V7h2v10zm4 0h-2v-4h2v4z\"/>\n",
              "    </g>\n",
              "</svg>\n",
              "  </button>\n",
              "\n",
              "<style>\n",
              "  .colab-df-quickchart {\n",
              "      --bg-color: #E8F0FE;\n",
              "      --fill-color: #1967D2;\n",
              "      --hover-bg-color: #E2EBFA;\n",
              "      --hover-fill-color: #174EA6;\n",
              "      --disabled-fill-color: #AAA;\n",
              "      --disabled-bg-color: #DDD;\n",
              "  }\n",
              "\n",
              "  [theme=dark] .colab-df-quickchart {\n",
              "      --bg-color: #3B4455;\n",
              "      --fill-color: #D2E3FC;\n",
              "      --hover-bg-color: #434B5C;\n",
              "      --hover-fill-color: #FFFFFF;\n",
              "      --disabled-bg-color: #3B4455;\n",
              "      --disabled-fill-color: #666;\n",
              "  }\n",
              "\n",
              "  .colab-df-quickchart {\n",
              "    background-color: var(--bg-color);\n",
              "    border: none;\n",
              "    border-radius: 50%;\n",
              "    cursor: pointer;\n",
              "    display: none;\n",
              "    fill: var(--fill-color);\n",
              "    height: 32px;\n",
              "    padding: 0;\n",
              "    width: 32px;\n",
              "  }\n",
              "\n",
              "  .colab-df-quickchart:hover {\n",
              "    background-color: var(--hover-bg-color);\n",
              "    box-shadow: 0 1px 2px rgba(60, 64, 67, 0.3), 0 1px 3px 1px rgba(60, 64, 67, 0.15);\n",
              "    fill: var(--button-hover-fill-color);\n",
              "  }\n",
              "\n",
              "  .colab-df-quickchart-complete:disabled,\n",
              "  .colab-df-quickchart-complete:disabled:hover {\n",
              "    background-color: var(--disabled-bg-color);\n",
              "    fill: var(--disabled-fill-color);\n",
              "    box-shadow: none;\n",
              "  }\n",
              "\n",
              "  .colab-df-spinner {\n",
              "    border: 2px solid var(--fill-color);\n",
              "    border-color: transparent;\n",
              "    border-bottom-color: var(--fill-color);\n",
              "    animation:\n",
              "      spin 1s steps(1) infinite;\n",
              "  }\n",
              "\n",
              "  @keyframes spin {\n",
              "    0% {\n",
              "      border-color: transparent;\n",
              "      border-bottom-color: var(--fill-color);\n",
              "      border-left-color: var(--fill-color);\n",
              "    }\n",
              "    20% {\n",
              "      border-color: transparent;\n",
              "      border-left-color: var(--fill-color);\n",
              "      border-top-color: var(--fill-color);\n",
              "    }\n",
              "    30% {\n",
              "      border-color: transparent;\n",
              "      border-left-color: var(--fill-color);\n",
              "      border-top-color: var(--fill-color);\n",
              "      border-right-color: var(--fill-color);\n",
              "    }\n",
              "    40% {\n",
              "      border-color: transparent;\n",
              "      border-right-color: var(--fill-color);\n",
              "      border-top-color: var(--fill-color);\n",
              "    }\n",
              "    60% {\n",
              "      border-color: transparent;\n",
              "      border-right-color: var(--fill-color);\n",
              "    }\n",
              "    80% {\n",
              "      border-color: transparent;\n",
              "      border-right-color: var(--fill-color);\n",
              "      border-bottom-color: var(--fill-color);\n",
              "    }\n",
              "    90% {\n",
              "      border-color: transparent;\n",
              "      border-bottom-color: var(--fill-color);\n",
              "    }\n",
              "  }\n",
              "</style>\n",
              "\n",
              "  <script>\n",
              "    async function quickchart(key) {\n",
              "      const quickchartButtonEl =\n",
              "        document.querySelector('#' + key + ' button');\n",
              "      quickchartButtonEl.disabled = true;  // To prevent multiple clicks.\n",
              "      quickchartButtonEl.classList.add('colab-df-spinner');\n",
              "      try {\n",
              "        const charts = await google.colab.kernel.invokeFunction(\n",
              "            'suggestCharts', [key], {});\n",
              "      } catch (error) {\n",
              "        console.error('Error during call to suggestCharts:', error);\n",
              "      }\n",
              "      quickchartButtonEl.classList.remove('colab-df-spinner');\n",
              "      quickchartButtonEl.classList.add('colab-df-quickchart-complete');\n",
              "    }\n",
              "    (() => {\n",
              "      let quickchartButtonEl =\n",
              "        document.querySelector('#df-ca2ba1c6-b2a1-4fd6-927d-542678cf44ae button');\n",
              "      quickchartButtonEl.style.display =\n",
              "        google.colab.kernel.accessAllowed ? 'block' : 'none';\n",
              "    })();\n",
              "  </script>\n",
              "</div>\n",
              "\n",
              "    </div>\n",
              "  </div>\n"
            ],
            "application/vnd.google.colaboratory.intrinsic+json": {
              "type": "dataframe",
              "repr_error": "0"
            }
          },
          "metadata": {},
          "execution_count": 5
        }
      ]
    },
    {
      "cell_type": "code",
      "execution_count": null,
      "metadata": {
        "colab": {
          "base_uri": "https://localhost:8080/",
          "height": 563
        },
        "id": "mVT3hUfcCCbR",
        "outputId": "ab2085ee-9fe8-4d45-df3e-a89555ee3e51"
      },
      "outputs": [
        {
          "output_type": "display_data",
          "data": {
            "text/plain": [
              "<Figure size 1200x600 with 1 Axes>"
            ],
            "image/png": "[encoded data removed]"
          },
          "metadata": {}
        }
      ],
      "source": [
        "# Import libraries\n",
        "import matplotlib.pyplot as plt\n",
        "import pandas as pd\n",
        "\n",
        "# Convert 'Date' column to datetime format (if needed)\n",
        "# Handle potential missing time components\n",
        "df['datetime'] = pd.to_datetime(df['datetime'], format='%Y-%m-%d %H:%M:%S', errors='coerce')\n",
        "\n",
        "# Set 'datetime' as the index for time series analysis\n",
        "df.set_index('datetime', inplace=True)\n",
        "\n",
        "# Plot the time series\n",
        "plt.figure(figsize=(12, 6))  # Adjust figure size as desired\n",
        "plt.plot(df['market_cap_usd'])\n",
        "plt.xlabel('datetime')\n",
        "plt.ylabel('Market Capitalization (USD)')\n",
        "plt.title('Bitcoin Market Capitalization Over Time')\n",
        "plt.show()"
      ]
    },
    {
      "cell_type": "code",
      "execution_count": null,
      "metadata": {
        "colab": {
          "base_uri": "https://localhost:8080/"
        },
        "id": "ZtxbKIK8CBZE",
        "outputId": "72ac28a3-7731-4401-f6e3-a56db09c3c18"
      },
      "outputs": [
        {
          "output_type": "execute_result",
          "data": {
            "text/plain": [
              "(257110, 3)"
            ]
          },
          "metadata": {},
          "execution_count": 7
        }
      ],
      "source": [
        "df.shape"
      ]
    },
    {
      "cell_type": "code",
      "execution_count": null,
      "metadata": {
        "colab": {
          "base_uri": "https://localhost:8080/"
        },
        "id": "6PAlypwuDx32",
        "outputId": "ea069159-1964-4855-fe55-7f108a72325b"
      },
      "outputs": [
        {
          "output_type": "execute_result",
          "data": {
            "text/plain": [
              "transaction_rate    130524\n",
              "mempool_size        130558\n",
              "market_cap_usd       60233\n",
              "dtype: int64"
            ]
          },
          "metadata": {},
          "execution_count": 8
        }
      ],
      "source": [
        "df.isnull().sum()"
      ]
    },
    {
      "cell_type": "code",
      "execution_count": null,
      "metadata": {
        "id": "YE0PIx8S1nw6"
      },
      "outputs": [],
      "source": [
        "df['transaction_rate'] = df['transaction_rate'].fillna(df['transaction_rate'].mean())\n",
        "df['mempool_size'] = df['mempool_size'].fillna(df['mempool_size'].mean())\n",
        "df['market_cap_usd'] = df['market_cap_usd'].fillna(df['market_cap_usd'].mean())"
      ]
    },
    {
      "cell_type": "code",
      "execution_count": null,
      "metadata": {
        "colab": {
          "base_uri": "https://localhost:8080/"
        },
        "id": "SELiojv114C3",
        "outputId": "0d92f30e-0899-4302-ef1c-fbe0c7d2daf1"
      },
      "outputs": [
        {
          "output_type": "execute_result",
          "data": {
            "text/plain": [
              "transaction_rate    0\n",
              "mempool_size        0\n",
              "market_cap_usd      0\n",
              "dtype: int64"
            ]
          },
          "metadata": {},
          "execution_count": 10
        }
      ],
      "source": [
        "df.isnull().sum()"
      ]
    },
    {
      "cell_type": "code",
      "execution_count": null,
      "metadata": {
        "colab": {
          "base_uri": "https://localhost:8080/",
          "height": 162
        },
        "id": "nJwnfzlZD5uU",
        "outputId": "569f9124-9643-450b-cc00-5dd1992ab138"
      },
      "outputs": [
        {
          "output_type": "execute_result",
          "data": {
            "text/plain": [
              "\"from sklearn.utils import resample\\ndf = pd.DataFrame(df)\\n\\n# Convert 'Date' column to datetime format\\ndf['Date'] = pd.to_datetime(df['Date'])\\n\\n# Set 'Date' column as index\\ndf.set_index('Date', inplace=True)\\n\\n# Convert monetary columns to numeric format\\nmonetary_cols = ['Open', 'High', 'Low', 'Close', 'Adj_Close','Volume']\\n\\n# Resample the DataFrame to daily frequency and interpolate missing values\\ndf_resampled = df.resample('D').interpolate()\\ndf_resampled['Close'] = df_resampled['Close'].fillna(method='ffill')\\n\\n# Separate the features and target variable\\nX = df_resampled.drop('Close', axis=1)\\ny = df_resampled['Close']\\n\\n# Resample the features and target variable to the desired length\\nX_resampled, y_resampled = resample(X, y, n_samples=len(df_resampled), random_state=42)\\n\\n# Create a new DataFrame with the resampled data\\ndf_resampled = pd.concat([pd.DataFrame(X_resampled, columns=X.columns), pd.DataFrame(y_resampled, columns=['Close'])], axis=1)\\n\\n# Append the resampled data to the original DataFrame\\ndf_extended = pd.concat([df, df_resampled], axis=0)\\n\\n# Print the extended DataFrame\\nprint(df_extended)\\ndata=df_extended\""
            ],
            "application/vnd.google.colaboratory.intrinsic+json": {
              "type": "string"
            }
          },
          "metadata": {},
          "execution_count": 11
        }
      ],
      "source": [
        "\"\"\"from sklearn.utils import resample\n",
        "df = pd.DataFrame(df)\n",
        "\n",
        "# Convert 'Date' column to datetime format\n",
        "df['Date'] = pd.to_datetime(df['Date'])\n",
        "\n",
        "# Set 'Date' column as index\n",
        "df.set_index('Date', inplace=True)\n",
        "\n",
        "# Convert monetary columns to numeric format\n",
        "monetary_cols = ['Open', 'High', 'Low', 'Close', 'Adj_Close','Volume']\n",
        "\n",
        "# Resample the DataFrame to daily frequency and interpolate missing values\n",
        "df_resampled = df.resample('D').interpolate()\n",
        "df_resampled['Close'] = df_resampled['Close'].fillna(method='ffill')\n",
        "\n",
        "# Separate the features and target variable\n",
        "X = df_resampled.drop('Close', axis=1)\n",
        "y = df_resampled['Close']\n",
        "\n",
        "# Resample the features and target variable to the desired length\n",
        "X_resampled, y_resampled = resample(X, y, n_samples=len(df_resampled), random_state=42)\n",
        "\n",
        "# Create a new DataFrame with the resampled data\n",
        "df_resampled = pd.concat([pd.DataFrame(X_resampled, columns=X.columns), pd.DataFrame(y_resampled, columns=['Close'])], axis=1)\n",
        "\n",
        "# Append the resampled data to the original DataFrame\n",
        "df_extended = pd.concat([df, df_resampled], axis=0)\n",
        "\n",
        "# Print the extended DataFrame\n",
        "print(df_extended)\n",
        "data=df_extended\"\"\""
      ]
    },
    {
      "cell_type": "code",
      "execution_count": null,
      "metadata": {
        "id": "zMZa4PPkJY5h"
      },
      "outputs": [],
      "source": [
        "# !pip install ruptures\n",
        "\n",
        "# import numpy as np\n",
        "# import pandas as pd\n",
        "# import ruptures as rpt\n",
        "\n",
        "# # Generate some sample data\n",
        "# np.random.seed(42)\n",
        "# data = np.random.normal(0, 1, 200)\n",
        "\n",
        "# # Perform change point detection using the Pelt method\n",
        "# model = \"l2\"  # \"l2\" for least squares, \"rbf\" for gaussian kernel\n",
        "# algo = rpt.Pelt(model=model).fit(data)\n",
        "# result = algo.predict(pen=10)\n",
        "\n",
        "# # Print the change point indices\n",
        "# print(result)\n"
      ]
    },
    {
      "cell_type": "code",
      "execution_count": null,
      "metadata": {
        "id": "y-_mggkXMNjd"
      },
      "outputs": [],
      "source": [
        "# import matplotlib.pyplot as plt\n",
        "\n",
        "# plt.plot(data)\n",
        "# for cp in result:\n",
        "#     plt.axvline(cp, color='r', linestyle='--')\n",
        "# plt.show()"
      ]
    },
    {
      "cell_type": "code",
      "execution_count": null,
      "metadata": {
        "id": "Mk91Kb8MMUJS"
      },
      "outputs": [],
      "source": [
        "# # Assuming result contains change points at indices 40 and 125\n",
        "# segment1 = data[0:40]\n",
        "# segment2 = data[40:125]\n",
        "# segment3 = data[125:200]\n",
        "\n",
        "# # Calculate mean, standard deviation, etc. for each segment\n",
        "# # print(f\"Segment 1 mean: {segment1.mean()}\")\n",
        "# # ... Repeat for other segments and statistics\n",
        "# print(f\"Segment 2 mean: {segment2.mean()}\")\n",
        "# print(f\"Segment 3 mean: {segment3.mean()}\")\n",
        "# '''16/3/24'''"
      ]
    },
    {
      "cell_type": "code",
      "execution_count": null,
      "metadata": {
        "id": "4mPdBy1GKRrc"
      },
      "outputs": [],
      "source": [
        "from sklearn.model_selection import train_test_split\n",
        "from sklearn.preprocessing import MinMaxScaler\n",
        "from tensorflow.keras.models import Sequential\n",
        "from tensorflow.keras.layers import LSTM, Dense\n",
        "\n",
        "scaler = MinMaxScaler()\n",
        "scaled_data = scaler.fit_transform(df['market_cap_usd'].values.reshape(-1, 1))"
      ]
    },
    {
      "cell_type": "code",
      "execution_count": null,
      "metadata": {
        "id": "8BnCtPZHK5sn"
      },
      "outputs": [],
      "source": [
        "sequence_length = 10\n",
        "X, y = [], []\n",
        "for i in range(sequence_length, len(scaled_data)):\n",
        "    X.append(scaled_data[i - sequence_length:i, 0])\n",
        "    y.append(scaled_data[i, 0])\n",
        "\n",
        "X, y = np.array(X), np.array(y)"
      ]
    },
    {
      "cell_type": "code",
      "execution_count": null,
      "metadata": {
        "id": "HEdTXvr-K9pH"
      },
      "outputs": [],
      "source": [
        "X_train, X_test, y_train, y_test = train_test_split(X, y, test_size=0.3, random_state=42)"
      ]
    },
    {
      "cell_type": "code",
      "execution_count": null,
      "metadata": {
        "colab": {
          "base_uri": "https://localhost:8080/"
        },
        "id": "6MfabB3IK_jY",
        "outputId": "1e471344-e3a1-4c03-c694-43d3f3f0b929"
      },
      "outputs": [
        {
          "output_type": "execute_result",
          "data": {
            "text/plain": [
              "(179970, 10)"
            ]
          },
          "metadata": {},
          "execution_count": 18
        }
      ],
      "source": [
        "X_train.shape"
      ]
    },
    {
      "cell_type": "code",
      "execution_count": null,
      "metadata": {
        "colab": {
          "base_uri": "https://localhost:8080/"
        },
        "id": "cWXlK1M7LCX4",
        "outputId": "a167ca74-f4dd-4e3c-a7cc-15361f39a77c"
      },
      "outputs": [
        {
          "output_type": "execute_result",
          "data": {
            "text/plain": [
              "(77130, 10)"
            ]
          },
          "metadata": {},
          "execution_count": 19
        }
      ],
      "source": [
        "X_test.shape"
      ]
    },
    {
      "cell_type": "code",
      "execution_count": null,
      "metadata": {
        "colab": {
          "base_uri": "https://localhost:8080/"
        },
        "id": "HLL-m11zLISu",
        "outputId": "e223f422-9e8f-4b94-cb90-1ac1aa523330"
      },
      "outputs": [
        {
          "output_type": "stream",
          "name": "stdout",
          "text": [
            "Epoch 1/10\n",
            "5625/5625 [==============================] - 121s 20ms/step - loss: 0.0082\n",
            "Epoch 2/10\n",
            "5625/5625 [==============================] - 118s 21ms/step - loss: 0.0077\n",
            "Epoch 3/10\n",
            "5625/5625 [==============================] - 114s 20ms/step - loss: 0.0076\n",
            "Epoch 4/10\n",
            "5625/5625 [==============================] - 116s 21ms/step - loss: 0.0076\n",
            "Epoch 5/10\n",
            "5625/5625 [==============================] - 114s 20ms/step - loss: 0.0075\n",
            "Epoch 6/10\n",
            "5625/5625 [==============================] - 115s 20ms/step - loss: 0.0075\n",
            "Epoch 7/10\n",
            "5625/5625 [==============================] - 115s 20ms/step - loss: 0.0075\n",
            "Epoch 8/10\n",
            "5625/5625 [==============================] - 112s 20ms/step - loss: 0.0075\n",
            "Epoch 9/10\n",
            "5625/5625 [==============================] - 115s 20ms/step - loss: 0.0075\n",
            "Epoch 10/10\n",
            "5625/5625 [==============================] - 114s 20ms/step - loss: 0.0075\n"
          ]
        },
        {
          "output_type": "execute_result",
          "data": {
            "text/plain": [
              "<keras.src.callbacks.History at 0x7bc0a2e2b6a0>"
            ]
          },
          "metadata": {},
          "execution_count": 20
        }
      ],
      "source": [
        "from tensorflow.keras.models import Sequential\n",
        "from tensorflow.keras.layers import LSTM, GRU, Dense\n",
        "\n",
        "# Define the model\n",
        "model = Sequential()\n",
        "model.add(LSTM(units=50, return_sequences=True, input_shape=(X_train.shape[1],1)))\n",
        "#model.add(Dropout(0.2))\n",
        "model.add(GRU(units=50, return_sequences=True))\n",
        "#model.add(Dropout(0.2))\n",
        "model.add(LSTM(units=25))\n",
        "#model.add(Dropout(0.2))\n",
        "model.add(Dense(1))\n",
        "\n",
        "# Compile the model\n",
        "model.compile(loss='mse', optimizer='adam')\n",
        "\n",
        "# Fit the model\n",
        "model.fit(X_train, y_train, epochs=10, batch_size=32)\n"
      ]
    },
    {
      "cell_type": "code",
      "execution_count": null,
      "metadata": {
        "id": "AIJm-0zLc31x",
        "colab": {
          "base_uri": "https://localhost:8080/"
        },
        "outputId": "cac938af-a82c-414f-957b-58153621d734"
      },
      "outputs": [
        {
          "output_type": "stream",
          "name": "stdout",
          "text": [
            "Epoch 1/10\n",
            "2250/2250 [==============================] - 58s 26ms/step - loss: 0.0074 - val_loss: 0.0074\n",
            "Epoch 2/10\n",
            "2250/2250 [==============================] - 57s 25ms/step - loss: 0.0075 - val_loss: 0.0074\n",
            "Epoch 3/10\n",
            "2250/2250 [==============================] - 56s 25ms/step - loss: 0.0074 - val_loss: 0.0073\n",
            "Epoch 4/10\n",
            "2250/2250 [==============================] - 57s 25ms/step - loss: 0.0074 - val_loss: 0.0073\n",
            "Epoch 5/10\n",
            "2250/2250 [==============================] - 57s 25ms/step - loss: 0.0074 - val_loss: 0.0073\n",
            "Epoch 6/10\n",
            "2250/2250 [==============================] - 57s 25ms/step - loss: 0.0074 - val_loss: 0.0074\n",
            "Epoch 7/10\n",
            "2250/2250 [==============================] - 56s 25ms/step - loss: 0.0074 - val_loss: 0.0074\n",
            "Epoch 8/10\n",
            "2250/2250 [==============================] - 56s 25ms/step - loss: 0.0074 - val_loss: 0.0074\n",
            "Epoch 9/10\n",
            "2250/2250 [==============================] - 57s 25ms/step - loss: 0.0074 - val_loss: 0.0074\n",
            "Epoch 10/10\n",
            "2250/2250 [==============================] - 57s 25ms/step - loss: 0.0074 - val_loss: 0.0073\n",
            "2411/2411 [==============================] - 16s 7ms/step - loss: 0.0074\n",
            "2411/2411 [==============================] - 18s 7ms/step\n",
            "Accuracy: 0.9925906895659864\n"
          ]
        }
      ],
      "source": [
        "# Train the model\n",
        "history = model.fit(X_train, y_train, batch_size=64, epochs=10, validation_split=0.2)\n",
        "\n",
        "# Evaluate the model\n",
        "loss = model.evaluate(X_test, y_test)\n",
        "\n",
        "# Predictions\n",
        "y_pred = model.predict(X_test)\n",
        "accuracy = 1 - loss\n",
        "\n",
        "print(\"Accuracy:\", accuracy)"
      ]
    },
    {
      "cell_type": "code",
      "execution_count": null,
      "metadata": {
        "id": "99hTSwi7gnqT",
        "colab": {
          "base_uri": "https://localhost:8080/"
        },
        "outputId": "79634044-49a9-4234-dfda-e895117304a8"
      },
      "outputs": [
        {
          "output_type": "display_data",
          "data": {
            "text/plain": [
              "<Figure size 1000x600 with 1 Axes>"
            ],
            "image/png": "[encoded data removed]"
          },
          "metadata": {}
        }
      ],
      "source": [
        "import matplotlib.pyplot as plt\n",
        "\n",
        "# Plot the training and validation loss/accuracy\n",
        "plt.figure(figsize=(10, 6))\n",
        "\n",
        "# Plot loss\n",
        "plt.plot(history.history['loss'], label='Training Loss')\n",
        "plt.plot(history.history['val_loss'], label='Validation Loss')\n",
        "plt.title('Model Loss')\n",
        "plt.ylabel('Loss')\n",
        "plt.xlabel('Epoch')\n",
        "plt.legend()\n",
        "\n",
        "plt.show()\n"
      ]
    },
    {
      "cell_type": "code",
      "execution_count": null,
      "metadata": {
        "id": "AMImILOAdUIF",
        "colab": {
          "base_uri": "https://localhost:8080/"
        },
        "outputId": "2e2b3c08-8799-4896-f94d-3038b9971332"
      },
      "outputs": [
        {
          "output_type": "stream",
          "name": "stdout",
          "text": [
            "2411/2411 [==============================] - 17s 7ms/step\n"
          ]
        }
      ],
      "source": [
        "test_predictions = model.predict(X_test)"
      ]
    },
    {
      "cell_type": "code",
      "execution_count": null,
      "metadata": {
        "id": "efoR5JoQdgCF",
        "colab": {
          "base_uri": "https://localhost:8080/"
        },
        "outputId": "7654d628-6f30-4a06-f7bc-5ce58374573b"
      },
      "outputs": [
        {
          "output_type": "stream",
          "name": "stdout",
          "text": [
            "2411/2411 [==============================] - 16s 7ms/step\n",
            "Mean Absolute Error (MAE): 65260163568.54709\n",
            "Mean Squared Error (MSE): 1.248751475687094e+22\n",
            "Root Mean Squared Error (RMSE): 111747549220.87079\n"
          ]
        },
        {
          "output_type": "execute_result",
          "data": {
            "text/plain": [
              "\"plt.figure(figsize=(10, 6))\\nplt.plot(actual_prices, label='Actual Prices', color='blue')\\nplt.plot(predicted_prices, label='Predicted Prices', color='red')\\nplt.title('BTC Price Prediction')\\nplt.xlabel('Time')\\nplt.ylabel('Price')\\nplt.legend()\\nplt.show()\""
            ],
            "application/vnd.google.colaboratory.intrinsic+json": {
              "type": "string"
            }
          },
          "metadata": {},
          "execution_count": 24
        }
      ],
      "source": [
        "import matplotlib.pyplot as plt\n",
        "from sklearn.metrics import mean_absolute_error, mean_squared_error\n",
        "\n",
        "# Evaluate the model on the testing data\n",
        "test_predictions = model.predict(X_test)\n",
        "\n",
        "# Inverse transform the predictions to get actual prices\n",
        "predicted_prices = scaler.inverse_transform(test_predictions)\n",
        "actual_prices = scaler.inverse_transform(y_test.reshape(-1, 1))\n",
        "\n",
        "# Calculate the Mean Absolute Error (MAE)\n",
        "mae = mean_absolute_error(actual_prices, predicted_prices)\n",
        "print(f\"Mean Absolute Error (MAE): {mae}\")\n",
        "\n",
        "# Calculate the Mean Squared Error (MSE)\n",
        "mse = mean_squared_error(actual_prices, predicted_prices)\n",
        "print(f\"Mean Squared Error (MSE): {mse}\")\n",
        "\n",
        "# Calculate the Root Mean Squared Error (RMSE)\n",
        "rmse = np.sqrt(mse)\n",
        "print(f\"Root Mean Squared Error (RMSE): {rmse}\")\n",
        "\n",
        "'''plt.figure(figsize=(10, 6))\n",
        "plt.plot(actual_prices, label='Actual Prices', color='blue')\n",
        "plt.plot(predicted_prices, label='Predicted Prices', color='red')\n",
        "plt.title('BTC Price Prediction')\n",
        "plt.xlabel('Time')\n",
        "plt.ylabel('Price')\n",
        "plt.legend()\n",
        "plt.show()'''"
      ]
    },
    {
      "cell_type": "code",
      "execution_count": null,
      "metadata": {
        "id": "EoXTZKM6dl5-",
        "colab": {
          "base_uri": "https://localhost:8080/"
        },
        "outputId": "41549f98-43e3-404e-9a49-2d513a62064e"
      },
      "outputs": [
        {
          "output_type": "stream",
          "name": "stdout",
          "text": [
            "Mean Absolute Error (MAE) Percentage: 5.026884568335195%\n",
            "Mean Squared Error (MSE) Percentage: 961893010921.3959%\n",
            "Root Mean Squared Error (RMSE) Percentage: 8.607732497293513%\n"
          ]
        }
      ],
      "source": [
        "# Range of the target variable\n",
        "target_range = df['market_cap_usd'].max() - df['market_cap_usd'].min()\n",
        "\n",
        "# Convert errors to percentage\n",
        "mae_percentage = (mae / target_range) * 100\n",
        "mse_percentage = (mse / target_range) * 100\n",
        "rmse_percentage = (rmse / target_range) * 100\n",
        "\n",
        "print(f\"Mean Absolute Error (MAE) Percentage: {mae_percentage}%\")\n",
        "print(f\"Mean Squared Error (MSE) Percentage: {mse_percentage}%\")\n",
        "print(f\"Root Mean Squared Error (RMSE) Percentage: {rmse_percentage}%\")"
      ]
    },
    {
      "cell_type": "code",
      "execution_count": null,
      "metadata": {
        "id": "dCl9zQs8CqGH",
        "colab": {
          "base_uri": "https://localhost:8080/"
        },
        "outputId": "f43d10c1-0738-4f5b-8025-8cdc04ead579"
      },
      "outputs": [
        {
          "output_type": "display_data",
          "data": {
            "text/plain": [
              "<Figure size 640x480 with 1 Axes>"
            ],
            "image/png": "[encoded data removed]"
          },
          "metadata": {}
        }
      ],
      "source": [
        "import matplotlib.pyplot as plt\n",
        "\n",
        "# Range of the target variable\n",
        "target_range = df['market_cap_usd'].max() - df['market_cap_usd'].min()\n",
        "\n",
        "# Convert errors to percentage\n",
        "mae_percentage = (mae / target_range) * 100\n",
        "mse_percentage = (mse / target_range) * 100\n",
        "rmse_percentage = (rmse / target_range) * 100\n",
        "\n",
        "# Plotting\n",
        "errors = ['MAE', 'MSE', 'RMSE']\n",
        "values = [mae_percentage, mse_percentage, rmse_percentage]\n",
        "\n",
        "plt.bar(errors, values, color='skyblue')\n",
        "plt.ylabel('Error Percentage')\n",
        "plt.title('Error Metrics as a Percentage of Target Variable Range')\n",
        "plt.show()\n"
      ]
    },
    {
      "cell_type": "code",
      "execution_count": null,
      "metadata": {
        "id": "aM2ZnXHnEPsh",
        "colab": {
          "base_uri": "https://localhost:8080/"
        },
        "outputId": "64a104ff-3767-49e8-d6d0-99fa6bb0ecb8"
      },
      "outputs": [
        {
          "output_type": "stream",
          "name": "stdout",
          "text": [
            " 301/2411 [==>...........................] - ETA: 12s"
          ]
        }
      ],
      "source": [
        "import matplotlib.pyplot as plt\n",
        "from sklearn.metrics import mean_absolute_error, mean_squared_error\n",
        "\n",
        "# Assuming you have your trained model (`model`), scaled test data (`X_test`),\n",
        "# target test data (`y_test`), and scaler (`scaler`)\n",
        "\n",
        "# Evaluate the model on the testing data\n",
        "test_predictions = model.predict(X_test)\n",
        "\n",
        "# Inverse transform the predictions to get actual prices\n",
        "predicted_prices = scaler.inverse_transform(test_predictions)\n",
        "actual_prices = scaler.inverse_transform(y_test.reshape(-1, 1))\n",
        "\n",
        "# Calculate Regression Evaluation Metrics\n",
        "mae = mean_absolute_error(actual_prices, predicted_prices)\n",
        "mse = mean_squared_error(actual_prices, predicted_prices)\n",
        "rmse = np.sqrt(mse)\n",
        "\n",
        "print(f\"Mean Absolute Error (MAE): {mae}\")\n",
        "print(f\"Mean Squared Error (MSE): {mse}\")\n",
        "print(f\"Root Mean Squared Error (RMSE): {rmse}\")\n",
        "\n",
        "# Optional: Visualization (scatter plot)\n",
        "plt.figure(figsize=(10, 6))\n",
        "plt.scatter(actual_prices, predicted_prices, color='blue', label='Predictions')\n",
        "plt.plot(actual_prices, actual_prices, color='red', linestyle='--', label='Actual Prices')  # Perfect prediction line\n",
        "plt.xlabel('Actual Closing Price')\n",
        "plt.ylabel('Predicted Closing Price')\n",
        "plt.title('Price Prediction Comparison')\n",
        "plt.legend()\n",
        "plt.grid(True)\n",
        "plt.show()\n"
      ]
    }
  ],
  "metadata": {
    "colab": {
      "provenance": [],
      "include_colab_link": true
    },
    "kernelspec": {
      "display_name": "Python 3",
      "name": "python3"
    },
    "language_info": {
      "name": "python"
    }
  },
  "nbformat": 4,
  "nbformat_minor": 0
}